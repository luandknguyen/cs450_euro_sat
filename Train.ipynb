{
 "cells": [
  {
   "cell_type": "code",
   "execution_count": 104,
   "metadata": {},
   "outputs": [],
   "source": [
    "\n",
    "from osgeo import gdal\n",
    "\n",
    "import numpy\n",
    "import torch\n",
    "import torch.utils.data\n",
    "import torch.optim\n",
    "import torchvision as vision\n",
    "import torchvision.transforms.v2 as v2\n",
    "import tqdm\n",
    "import matplotlib.pyplot as pyplot\n",
    "from typing import Callable, Tuple, List, Any, Union\n",
    "from pathlib import Path\n",
    "\n",
    "import models\n",
    "\n",
    "has_cuda = torch.cuda.is_available()\n",
    "if has_cuda:\n",
    "    device = torch.device(\"cuda\")\n",
    "else:\n",
    "    device = torch.device(\"cpu\")"
   ]
  },
  {
   "cell_type": "markdown",
   "metadata": {},
   "source": [
    "# 1. Classifier Model (2-layer CNN)"
   ]
  },
  {
   "cell_type": "markdown",
   "metadata": {},
   "source": [
    "## Load Dataset"
   ]
  },
  {
   "cell_type": "code",
   "execution_count": null,
   "metadata": {},
   "outputs": [],
   "source": [
    "BATCH_SIZE = 2000\n",
    "TRAIN_SET_SIZE = 0.8\n",
    "\n",
    "def target_transform(label: int) -> torch.Tensor:\n",
    "    \"\"\"Transform label into one-hot encoded.\"\"\"\n",
    "    l = torch.zeros(10)\n",
    "    l[label] = 1\n",
    "    return l\n",
    "\n",
    "\n",
    "dataset = vision.datasets.ImageFolder(\n",
    "    root=\"dataset\",\n",
    "    transform=vision.transforms.Compose([\n",
    "        v2.PILToTensor(),\n",
    "        v2.ToDtype(torch.float32, scale=True),\n",
    "    ]),\n",
    "    target_transform=target_transform)\n",
    "\n",
    "train_set, test_set = torch.utils.data.random_split(dataset, [TRAIN_SET_SIZE, 1 - TRAIN_SET_SIZE])\n",
    "train_loader = torch.utils.data.DataLoader(dataset=train_set, batch_size=BATCH_SIZE, shuffle=True)\n",
    "test_loader = torch.utils.data.DataLoader(dataset=test_set, batch_size=BATCH_SIZE, shuffle=False)\n",
    "\n",
    "print(f\"The dataset has {len(dataset)} samples.\")\n",
    "print(f\"The train set has {len(train_set)} samples.\")\n",
    "print(f\"The test set has {len(test_set)} samples.\")"
   ]
  },
  {
   "cell_type": "markdown",
   "metadata": {},
   "source": [
    "## Define Training Hyperparameters"
   ]
  },
  {
   "cell_type": "code",
   "execution_count": null,
   "metadata": {},
   "outputs": [],
   "source": [
    "cls = models.Conv2Layers(n_classes=10, image_size=(64, 64))\n",
    "\n",
    "if has_cuda:\n",
    "    cls = cls.cuda()\n",
    "\n",
    "criterion = torch.nn.BCELoss(reduction=\"mean\")\n",
    "optimizer = torch.optim.Adam(cls.parameters(), lr=1e-3)\n",
    "    \n",
    "loss_hist = []"
   ]
  },
  {
   "cell_type": "markdown",
   "metadata": {},
   "source": [
    "# Train"
   ]
  },
  {
   "cell_type": "code",
   "execution_count": null,
   "metadata": {},
   "outputs": [],
   "source": [
    "EPOCHS = 50\n",
    "\n",
    "for epoch in range(EPOCHS):\n",
    "    total_loss = 0.0\n",
    "    for inputs, labels in tqdm.tqdm(train_loader):\n",
    "        if has_cuda:\n",
    "            inputs = inputs.cuda()\n",
    "            labels = labels.cuda()\n",
    "        y = cls(inputs)\n",
    "        loss = criterion(y, labels)\n",
    "        optimizer.zero_grad()\n",
    "        loss.backward()\n",
    "        optimizer.step()\n",
    "        total_loss += loss.item()\n",
    "    loss_hist.append(total_loss)\n",
    "\n",
    "pyplot.plot(loss_hist)"
   ]
  },
  {
   "cell_type": "markdown",
   "metadata": {},
   "source": [
    "## Evaluation"
   ]
  },
  {
   "cell_type": "code",
   "execution_count": null,
   "metadata": {},
   "outputs": [],
   "source": [
    "tp = 0\n",
    "tn = 0\n",
    "fp = 0\n",
    "fn = 0\n",
    "\n",
    "for inputs, labels in tqdm.tqdm(test_loader):\n",
    "    if has_cuda:\n",
    "        inputs = inputs.cuda()\n",
    "        labels = labels.cuda()\n",
    "    y = cls(inputs)\n",
    "    acc = torch.argmax(y, dim=1) == torch.argmax(labels, dim=1)\n",
    "    y = torch.argmax(y, dim=1).to(bool)\n",
    "    labels = torch.argmax(labels, dim=1).to(bool)\n",
    "    tp += ((y == True) & (labels == True)).sum()\n",
    "    tn += ((y == False) & (labels == False)).sum()\n",
    "    fp += ((y == True) & (labels == False)).sum()\n",
    "    fn += ((y == False) & (labels == True)).sum()\n",
    "\n",
    "accuracy = (tp + tn) / (tp + tn + fp + fn)\n",
    "precision = tp / (tp + fp)\n",
    "recall = tp / (tp + fn)\n",
    "\n",
    "print(f\"Accuracy = {accuracy}\")\n",
    "print(f\"Precision = {precision}\")\n",
    "print(f\"Recall = {recall}\")"
   ]
  },
  {
   "cell_type": "markdown",
   "metadata": {},
   "source": [
    "## Save Model"
   ]
  },
  {
   "cell_type": "code",
   "execution_count": null,
   "metadata": {},
   "outputs": [],
   "source": [
    "torch.save(\n",
    "    {\n",
    "        \"model_state_dict\": cls.state_dict(),\n",
    "        \"optimizer_state_dict\": optimizer.state_dict(),\n",
    "    },\n",
    "    \"outputs/cls_state.pt\")"
   ]
  },
  {
   "cell_type": "markdown",
   "metadata": {},
   "source": [
    "# 2. Segmentation Model (U-Net)"
   ]
  },
  {
   "cell_type": "markdown",
   "metadata": {},
   "source": [
    "## Load Dataset"
   ]
  },
  {
   "cell_type": "code",
   "execution_count": 2,
   "metadata": {},
   "outputs": [
    {
     "name": "stdout",
     "output_type": "stream",
     "text": [
      "The dataset has 27000 samples.\n",
      "The train set has 21601 samples.\n",
      "The test set has 5399 samples.\n"
     ]
    }
   ],
   "source": [
    "BATCH_SIZE = 2000\n",
    "TRAIN_SET_SIZE = 0.8\n",
    "\n",
    "def target_transform_2(label: int) -> torch.Tensor:\n",
    "    \"\"\"Transform label into segmentation matrix.\"\"\"\n",
    "    l = torch.zeros((10, 64, 64))\n",
    "    l[label] = torch.ones((64, 64))\n",
    "    return l\n",
    "\n",
    "\n",
    "dataset = vision.datasets.ImageFolder(\n",
    "    root=\"dataset\",\n",
    "    transform=vision.transforms.Compose([\n",
    "        v2.PILToTensor(),\n",
    "        v2.ToDtype(torch.float32, scale=True),\n",
    "    ]),\n",
    "    target_transform=target_transform_2)\n",
    "\n",
    "train_set, test_set = torch.utils.data.random_split(dataset, [TRAIN_SET_SIZE, 1 - TRAIN_SET_SIZE])\n",
    "train_loader = torch.utils.data.DataLoader(dataset=train_set, batch_size=BATCH_SIZE, shuffle=True)\n",
    "test_loader = torch.utils.data.DataLoader(dataset=test_set, batch_size=BATCH_SIZE, shuffle=False)\n",
    "\n",
    "print(f\"The dataset has {len(dataset)} samples.\")\n",
    "print(f\"The train set has {len(train_set)} samples.\")\n",
    "print(f\"The test set has {len(test_set)} samples.\")"
   ]
  },
  {
   "cell_type": "markdown",
   "metadata": {},
   "source": [
    "## Define Training Hyperparameters"
   ]
  },
  {
   "cell_type": "code",
   "execution_count": 3,
   "metadata": {},
   "outputs": [],
   "source": [
    "def gaussian_filter(kernel_size, sigma=1, mean=0):\n",
    "    x, y = numpy.meshgrid(numpy.linspace(-1, 1, kernel_size), numpy.linspace(-1, 1, kernel_size))\n",
    "    dst = numpy.sqrt(x**2 + y**2)\n",
    "    gauss = numpy.exp(-((dst - mean)**2 / (2.0 * sigma**2)))\n",
    "    return gauss\n",
    "\n",
    "loss_filter = torch.Tensor(gaussian_filter(64))\n",
    "if has_cuda:\n",
    "    loss_filter = loss_filter.cuda()"
   ]
  },
  {
   "cell_type": "code",
   "execution_count": 4,
   "metadata": {},
   "outputs": [],
   "source": [
    "HIDDEN_CHANNELS = [8, 12, 16, 20]\n",
    "\n",
    "unet = models.UNet(input_channels=3, n_classes=10, hidden_channels=HIDDEN_CHANNELS)\n",
    "if has_cuda:\n",
    "    unet = unet.cuda()\n",
    "\n",
    "criterion2 = torch.nn.BCELoss(reduction=\"none\")\n",
    "optimizer2 = torch.optim.Adam(unet.parameters(), lr=1e-3)\n",
    "\n",
    "loss_hist = []"
   ]
  },
  {
   "cell_type": "markdown",
   "metadata": {},
   "source": [
    "# Train"
   ]
  },
  {
   "cell_type": "code",
   "execution_count": null,
   "metadata": {},
   "outputs": [],
   "source": [
    "EPOCHS = 50\n",
    "\n",
    "for epoch in range(EPOCHS):\n",
    "    total_loss = 0.0\n",
    "    for inputs, labels in tqdm.tqdm(train_loader):\n",
    "        if has_cuda:\n",
    "            inputs = inputs.cuda()\n",
    "            labels = labels.cuda()\n",
    "        y = unet(inputs)\n",
    "        loss = criterion2(y, labels)\n",
    "        loss = (loss * loss_filter).mean()\n",
    "        optimizer2.zero_grad()\n",
    "        loss.backward()\n",
    "        optimizer2.step()\n",
    "        total_loss += loss.item()\n",
    "    loss_hist.append(total_loss)\n",
    "\n",
    "pyplot.plot(loss_hist)"
   ]
  },
  {
   "cell_type": "markdown",
   "metadata": {},
   "source": [
    "## Evaluation"
   ]
  },
  {
   "cell_type": "code",
   "execution_count": null,
   "metadata": {},
   "outputs": [],
   "source": [
    "tp = 0\n",
    "tn = 0\n",
    "fp = 0\n",
    "fn = 0\n",
    "\n",
    "for inputs, labels in tqdm.tqdm(test_loader):\n",
    "    if has_cuda:\n",
    "        inputs = inputs.cuda()\n",
    "        labels = labels.cuda()\n",
    "    y = unet(inputs)\n",
    "    y = torch.argmax(y, dim=1).to(bool)\n",
    "    labels = torch.argmax(labels, dim=1).to(bool)\n",
    "    tp += ((y == True) & (labels == True)).sum()\n",
    "    tn += ((y == False) & (labels == False)).sum()\n",
    "    fp += ((y == True) & (labels == False)).sum()\n",
    "    fn += ((y == False) & (labels == True)).sum()\n",
    "\n",
    "accuracy = (tp + tn) / (tp + tn + fp + fn)\n",
    "precision = tp / (tp + fp)\n",
    "recall = tp / (tp + fn)\n",
    "\n",
    "print(f\"Accuracy = {accuracy}\")\n",
    "print(f\"Precision = {precision}\")\n",
    "print(f\"Recall = {recall}\")"
   ]
  },
  {
   "cell_type": "markdown",
   "metadata": {},
   "source": [
    "## Save Model"
   ]
  },
  {
   "cell_type": "code",
   "execution_count": null,
   "metadata": {},
   "outputs": [],
   "source": [
    "torch.save(\n",
    "    {\n",
    "        \"model_state_dict\": unet.state_dict(),\n",
    "        \"optimizer_state_dict\": optimizer2.state_dict(),\n",
    "    },\n",
    "    \"outputs/unet_state.pt\")"
   ]
  },
  {
   "cell_type": "markdown",
   "metadata": {},
   "source": [
    "# 3. Segmentation Model (13 Bands)"
   ]
  },
  {
   "cell_type": "markdown",
   "metadata": {},
   "source": [
    "## Load Dataset"
   ]
  },
  {
   "cell_type": "code",
   "execution_count": 83,
   "metadata": {},
   "outputs": [],
   "source": [
    "def pt_loader(path: str):\n",
    "    data = torch.load(path)\n",
    "    return data\n",
    "\n",
    "\n",
    "class PtDatasetFolder(vision.datasets.DatasetFolder):\n",
    "    def __init__(self, root: Union[str, Path], transform: Callable = None, target_transform: Callable = None):\n",
    "        super().__init__(\n",
    "            root=root,\n",
    "            loader=pt_loader,\n",
    "            extensions=[\".pt\"],\n",
    "            transform=transform,\n",
    "            target_transform=target_transform,\n",
    "            is_valid_file=None,\n",
    "            allow_empty=False,\n",
    "        )"
   ]
  },
  {
   "cell_type": "code",
   "execution_count": 127,
   "metadata": {},
   "outputs": [
    {
     "name": "stdout",
     "output_type": "stream",
     "text": [
      "The dataset has 27000 samples.\n",
      "The train set has 21601 samples.\n",
      "The test set has 5399 samples.\n"
     ]
    }
   ],
   "source": [
    "BATCH_SIZE = 2000\n",
    "TRAIN_SET_SIZE = 0.8\n",
    "\n",
    "def transform(data):\n",
    "    return data / 3500.0\n",
    "\n",
    "dataset = PtDatasetFolder(\n",
    "    root=\"dataset13_pt\",\n",
    "    transform=transform,\n",
    ")\n",
    "\n",
    "train_set, test_set = torch.utils.data.random_split(dataset, [TRAIN_SET_SIZE, 1 - TRAIN_SET_SIZE])\n",
    "train_loader = torch.utils.data.DataLoader(dataset=train_set, batch_size=BATCH_SIZE, shuffle=True)\n",
    "test_loader = torch.utils.data.DataLoader(dataset=test_set, batch_size=BATCH_SIZE, shuffle=False)\n",
    "\n",
    "print(f\"The dataset has {len(dataset)} samples.\")\n",
    "print(f\"The train set has {len(train_set)} samples.\")\n",
    "print(f\"The test set has {len(test_set)} samples.\")"
   ]
  },
  {
   "cell_type": "markdown",
   "metadata": {},
   "source": [
    "## Define Training Hyperparameters"
   ]
  },
  {
   "cell_type": "code",
   "execution_count": 59,
   "metadata": {},
   "outputs": [],
   "source": [
    "def gaussian_filter(kernel_size, sigma=1, mean=0):\n",
    "    x, y = numpy.meshgrid(numpy.linspace(-1, 1, kernel_size), numpy.linspace(-1, 1, kernel_size))\n",
    "    dst = numpy.sqrt(x**2 + y**2)\n",
    "    gauss = numpy.exp(-((dst - mean)**2 / (2.0 * sigma**2)))\n",
    "    return gauss\n",
    "\n",
    "loss_filter = torch.Tensor(gaussian_filter(64))\n",
    "if has_cuda:\n",
    "    loss_filter = loss_filter.cuda()"
   ]
  },
  {
   "cell_type": "code",
   "execution_count": 119,
   "metadata": {},
   "outputs": [],
   "source": [
    "unet = models.UNet(input_channels=13, n_classes=10, hidden_channels=[8, 12, 16, 20])\n",
    "if has_cuda:\n",
    "    unet = unet.cuda()\n",
    "\n",
    "criterion3 = torch.nn.BCELoss(reduction=\"none\")\n",
    "optimizer3 = torch.optim.Adam(unet.parameters(), lr=1e-3)\n",
    "\n",
    "loss_hist = []"
   ]
  },
  {
   "cell_type": "markdown",
   "metadata": {},
   "source": [
    "# Train"
   ]
  },
  {
   "cell_type": "code",
   "execution_count": 135,
   "metadata": {},
   "outputs": [
    {
     "name": "stderr",
     "output_type": "stream",
     "text": [
      "100%|██████████| 11/11 [00:29<00:00,  2.69s/it]\n",
      "100%|██████████| 11/11 [00:29<00:00,  2.68s/it]\n",
      "100%|██████████| 11/11 [00:29<00:00,  2.67s/it]\n",
      "100%|██████████| 11/11 [00:29<00:00,  2.65s/it]\n",
      "100%|██████████| 11/11 [00:28<00:00,  2.63s/it]\n",
      "100%|██████████| 11/11 [00:28<00:00,  2.62s/it]\n",
      "100%|██████████| 11/11 [00:28<00:00,  2.59s/it]\n",
      "100%|██████████| 11/11 [00:28<00:00,  2.60s/it]\n",
      "100%|██████████| 11/11 [00:28<00:00,  2.58s/it]\n",
      "100%|██████████| 11/11 [00:28<00:00,  2.61s/it]\n"
     ]
    },
    {
     "data": {
      "text/plain": [
       "[<matplotlib.lines.Line2D at 0x1f5c151ed10>]"
      ]
     },
     "execution_count": 135,
     "metadata": {},
     "output_type": "execute_result"
    },
    {
     "data": {
      "image/png": "[encoded data removed]",
      "text/plain": [
       "<Figure size 640x480 with 1 Axes>"
      ]
     },
     "metadata": {},
     "output_type": "display_data"
    }
   ],
   "source": [
    "EPOCHS = 10\n",
    "\n",
    "for epoch in range(EPOCHS):\n",
    "    total_loss = 0.0\n",
    "    for inputs, labels in tqdm.tqdm(train_loader):\n",
    "        labels_transformed = torch.zeros((labels.shape[0], 10, 64, 64), device=device)\n",
    "        for idx in range(labels.shape[0]):\n",
    "            labels_transformed[idx][labels[idx]] = torch.ones((64, 64), device=device)\n",
    "        \n",
    "        if has_cuda:\n",
    "            inputs = inputs.float().cuda()\n",
    "        \n",
    "        y = unet(inputs)\n",
    "        loss = criterion3(y, labels_transformed)\n",
    "        loss = (loss * loss_filter).mean()\n",
    "        optimizer3.zero_grad()\n",
    "        loss.backward()\n",
    "        optimizer3.step()\n",
    "        total_loss += loss.item()\n",
    "    loss_hist.append(total_loss)\n",
    "\n",
    "pyplot.plot(loss_hist)"
   ]
  },
  {
   "cell_type": "markdown",
   "metadata": {},
   "source": [
    "## Evaluation"
   ]
  },
  {
   "cell_type": "code",
   "execution_count": 145,
   "metadata": {},
   "outputs": [
    {
     "name": "stderr",
     "output_type": "stream",
     "text": [
      "100%|██████████| 3/3 [00:07<00:00,  2.36s/it]"
     ]
    },
    {
     "name": "stdout",
     "output_type": "stream",
     "text": [
      "Accuracy = 0.8873865604400635\n",
      "Precision = 0.8873865604400635\n",
      "Recall = 1.0\n"
     ]
    },
    {
     "name": "stderr",
     "output_type": "stream",
     "text": [
      "\n"
     ]
    }
   ],
   "source": [
    "tp = 0\n",
    "tn = 0\n",
    "fp = 0\n",
    "fn = 0\n",
    "\n",
    "for inputs, labels in tqdm.tqdm(test_loader):\n",
    "    labels_transformed = torch.zeros((labels.shape[0], 10, 64, 64), device=device)\n",
    "    for idx in range(labels.shape[0]):\n",
    "        labels_transformed[idx][labels[idx]] = torch.ones((64, 64), device=device)\n",
    "    \n",
    "    if has_cuda:\n",
    "        inputs = inputs.float().cuda()\n",
    "    \n",
    "    y = unet(inputs)\n",
    "    y = torch.argmax(y, dim=1).to(bool)\n",
    "    labels = torch.argmax(labels_transformed, dim=1).to(bool)\n",
    "    tp += ((y == True) & (labels == True)).sum()\n",
    "    tn += ((y == False) & (labels == False)).sum()\n",
    "    fp += ((y == True) & (labels == False)).sum()\n",
    "    fn += ((y == False) & (labels == True)).sum()\n",
    "\n",
    "accuracy = (tp + tn) / (tp + tn + fp + fn)\n",
    "precision = tp / (tp + fp)\n",
    "recall = tp / (tp + fn)\n",
    "\n",
    "print(f\"Accuracy = {accuracy}\")\n",
    "print(f\"Precision = {precision}\")\n",
    "print(f\"Recall = {recall}\")"
   ]
  },
  {
   "cell_type": "markdown",
   "metadata": {},
   "source": [
    "## Save Model"
   ]
  },
  {
   "cell_type": "code",
   "execution_count": 147,
   "metadata": {},
   "outputs": [],
   "source": [
    "torch.save(\n",
    "    {\n",
    "        \"model_state_dict\": unet.state_dict(),\n",
    "        \"optimizer_state_dict\": optimizer3.state_dict(),\n",
    "    },\n",
    "    \"outputs/unet13_state.pt\")"
   ]
  }
 ],
 "metadata": {
  "kernelspec": {
   "display_name": "pytorch",
   "language": "python",
   "name": "python3"
  },
  "language_info": {
   "codemirror_mode": {
    "name": "ipython",
    "version": 3
   },
   "file_extension": ".py",
   "mimetype": "text/x-python",
   "name": "python",
   "nbconvert_exporter": "python",
   "pygments_lexer": "ipython3",
   "version": "3.10.14"
  }
 },
 "nbformat": 4,
 "nbformat_minor": 2
}
